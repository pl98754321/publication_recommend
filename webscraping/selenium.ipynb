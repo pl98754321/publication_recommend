{
 "cells": [
  {
   "cell_type": "code",
   "execution_count": 379,
   "metadata": {},
   "outputs": [],
   "source": [
    "from selenium import webdriver\n",
    "from selenium.webdriver.common.by import By\n",
    "import time\n",
    "from selenium.webdriver.support.ui import WebDriverWait\n",
    "from selenium.webdriver.support import expected_conditions as EC\n",
    "\n",
    "import os"
   ]
  },
  {
   "cell_type": "code",
   "execution_count": 380,
   "metadata": {},
   "outputs": [],
   "source": [
    "# Set the download directory for the browser\n",
    "download_directory = \"/research_csv\"\n",
    "chrome_options = webdriver.ChromeOptions()\n",
    "prefs = {\"download.default_directory\": download_directory}\n",
    "chrome_options.add_experimental_option(\"prefs\", prefs)"
   ]
  },
  {
   "cell_type": "code",
   "execution_count": 381,
   "metadata": {},
   "outputs": [],
   "source": [
    "browser = webdriver.Chrome(options = chrome_options)\n",
    "wait = WebDriverWait(browser, 10)"
   ]
  },
  {
   "cell_type": "code",
   "execution_count": 382,
   "metadata": {},
   "outputs": [],
   "source": [
    "url = 'https://www.google.com'\n",
    "browser.get(url=url)\n",
    "browser.get(\"https://www.scopus.com/results/results.uri?sort=plf-f&src=s&st1=a&sid=1fdec7a088ce065b416a16211b78ae3b&sot=b&sdt=cl&sl=6&s=ALL%28a%29&origin=resultslist&editSaveSearch=&yearFrom=2018&yearTo=Present&sessionSearchId=1fdec7a088ce065b416a16211b78ae3b&limit=10&cluster=scosubtype%2C%22ar%22%2Ct%2Bscofreetoread%2C%22all%22%2Ct\")"
   ]
  },
  {
   "cell_type": "code",
   "execution_count": 383,
   "metadata": {},
   "outputs": [],
   "source": [
    "# addDate = browser.find_element(By.CSS_SELECTOR,'button.add-year-range-button')\n",
    "# addDate.click()"
   ]
  },
  {
   "cell_type": "code",
   "execution_count": 384,
   "metadata": {},
   "outputs": [],
   "source": [
    "#search and filter 2018 -2024\n",
    "# search = browser.find_element(By.XPATH,\"(//input[@class ='styleguide-input-module__SOgqZ'])\").send_keys(\"a\")\n",
    "# selected_date_from = browser.find_element(By.XPATH,\"(//select[@class='Select-module__vDMww'])[2]//option[@value='2018']\").click()\n",
    "# selected_date_to = browser.find_element(By.XPATH,\"(//select[@class='Select-module__vDMww'])[3]//option[@value='2024']\").click()\n",
    "# submit = browser.find_element(By.XPATH,\"//button[@type='submit']\").click()\n",
    "# time.sleep(3)"
   ]
  },
  {
   "cell_type": "code",
   "execution_count": 385,
   "metadata": {},
   "outputs": [],
   "source": [
    "\n",
    "# wait.until(EC.element_to_be_clickable((By.XPATH,\"//div[@data-testid='facet-group-open-access']//span[@data-testid = 'arrow-icon']\")));\n",
    "# browser.find_element(By.XPATH,\"//div[@data-testid='facet-group-open-access']//span[@data-testid = 'arrow-icon']\").click()\n",
    "# time.sleep(1.5)\n",
    "# wait.until(EC.element_to_be_clickable((By.XPATH,\"//section[@id = 'open-access-section']//label[@class = 'Checkbox-module__jE3jb']//input[@type = 'checkbox']\")));\n",
    "# browser.find_element(By.XPATH , \"//section[@id = 'open-access-section']//label[@class = 'Checkbox-module__jE3jb']//input[@type = 'checkbox']\").click()\n",
    "# time.sleep(1.5)\n",
    "# doc_type = browser.find_element(By.XPATH,\"//section[@id='document-type-section']//label[@class = 'Checkbox-module__jE3jb']//input[@type='checkbox']\").click()\n",
    "# time.sleep(3)\n"
   ]
  },
  {
   "cell_type": "code",
   "execution_count": 386,
   "metadata": {},
   "outputs": [
    {
     "ename": "NoSuchElementException",
     "evalue": "Message: no such element: Unable to locate element: {\"method\":\"css selector\",\"selector\":\"div.Sticky-module__7HmWf\"}\n  (Session info: chrome=124.0.6367.119); For documentation on this error, please visit: https://www.selenium.dev/documentation/webdriver/troubleshooting/errors#no-such-element-exception\nStacktrace:\n\tGetHandleVerifier [0x00007FF790221502+60802]\n\t(No symbol) [0x00007FF79019AC02]\n\t(No symbol) [0x00007FF790057CE4]\n\t(No symbol) [0x00007FF7900A6D4D]\n\t(No symbol) [0x00007FF7900A6E1C]\n\t(No symbol) [0x00007FF7900ECE37]\n\t(No symbol) [0x00007FF7900CABBF]\n\t(No symbol) [0x00007FF7900EA224]\n\t(No symbol) [0x00007FF7900CA923]\n\t(No symbol) [0x00007FF790098FEC]\n\t(No symbol) [0x00007FF790099C21]\n\tGetHandleVerifier [0x00007FF79052411D+3217821]\n\tGetHandleVerifier [0x00007FF7905660B7+3488055]\n\tGetHandleVerifier [0x00007FF79055F03F+3459263]\n\tGetHandleVerifier [0x00007FF7902DB846+823494]\n\t(No symbol) [0x00007FF7901A5F9F]\n\t(No symbol) [0x00007FF7901A0EC4]\n\t(No symbol) [0x00007FF7901A1052]\n\t(No symbol) [0x00007FF7901918A4]\n\tBaseThreadInitThunk [0x00007FFFBADC257D+29]\n\tRtlUserThreadStart [0x00007FFFBBE0AA48+40]\n",
     "output_type": "error",
     "traceback": [
      "\u001b[1;31m---------------------------------------------------------------------------\u001b[0m",
      "\u001b[1;31mNoSuchElementException\u001b[0m                    Traceback (most recent call last)",
      "Cell \u001b[1;32mIn[386], line 1\u001b[0m\n\u001b[1;32m----> 1\u001b[0m submit \u001b[38;5;241m=\u001b[39m \u001b[43mbrowser\u001b[49m\u001b[38;5;241;43m.\u001b[39;49m\u001b[43mfind_element\u001b[49m\u001b[43m(\u001b[49m\u001b[43mBy\u001b[49m\u001b[38;5;241;43m.\u001b[39;49m\u001b[43mCSS_SELECTOR\u001b[49m\u001b[43m \u001b[49m\u001b[43m,\u001b[49m\u001b[43m \u001b[49m\u001b[38;5;124;43m'\u001b[39;49m\u001b[38;5;124;43mdiv.Sticky-module__7HmWf\u001b[39;49m\u001b[38;5;124;43m'\u001b[39;49m\u001b[43m)\u001b[49m\u001b[38;5;241m.\u001b[39mfind_elements(By\u001b[38;5;241m.\u001b[39mCSS_SELECTOR,\u001b[38;5;124m'\u001b[39m\u001b[38;5;124mdiv.Stack-module__tT3r4\u001b[39m\u001b[38;5;124m'\u001b[39m)[\u001b[38;5;241m1\u001b[39m]\n\u001b[0;32m      2\u001b[0m submit \u001b[38;5;241m=\u001b[39m submit\u001b[38;5;241m.\u001b[39mfind_elements(By\u001b[38;5;241m.\u001b[39mCSS_SELECTOR , \u001b[38;5;124m'\u001b[39m\u001b[38;5;124mbutton.Button-module__nc6_8\u001b[39m\u001b[38;5;124m'\u001b[39m)[\u001b[38;5;241m1\u001b[39m]\u001b[38;5;241m.\u001b[39mclick()\n",
      "File \u001b[1;32mc:\\Users\\acer\\AppData\\Local\\Programs\\Python\\Python312\\Lib\\site-packages\\selenium\\webdriver\\remote\\webdriver.py:741\u001b[0m, in \u001b[0;36mWebDriver.find_element\u001b[1;34m(self, by, value)\u001b[0m\n\u001b[0;32m    738\u001b[0m     by \u001b[38;5;241m=\u001b[39m By\u001b[38;5;241m.\u001b[39mCSS_SELECTOR\n\u001b[0;32m    739\u001b[0m     value \u001b[38;5;241m=\u001b[39m \u001b[38;5;124mf\u001b[39m\u001b[38;5;124m'\u001b[39m\u001b[38;5;124m[name=\u001b[39m\u001b[38;5;124m\"\u001b[39m\u001b[38;5;132;01m{\u001b[39;00mvalue\u001b[38;5;132;01m}\u001b[39;00m\u001b[38;5;124m\"\u001b[39m\u001b[38;5;124m]\u001b[39m\u001b[38;5;124m'\u001b[39m\n\u001b[1;32m--> 741\u001b[0m \u001b[38;5;28;01mreturn\u001b[39;00m \u001b[38;5;28;43mself\u001b[39;49m\u001b[38;5;241;43m.\u001b[39;49m\u001b[43mexecute\u001b[49m\u001b[43m(\u001b[49m\u001b[43mCommand\u001b[49m\u001b[38;5;241;43m.\u001b[39;49m\u001b[43mFIND_ELEMENT\u001b[49m\u001b[43m,\u001b[49m\u001b[43m \u001b[49m\u001b[43m{\u001b[49m\u001b[38;5;124;43m\"\u001b[39;49m\u001b[38;5;124;43musing\u001b[39;49m\u001b[38;5;124;43m\"\u001b[39;49m\u001b[43m:\u001b[49m\u001b[43m \u001b[49m\u001b[43mby\u001b[49m\u001b[43m,\u001b[49m\u001b[43m \u001b[49m\u001b[38;5;124;43m\"\u001b[39;49m\u001b[38;5;124;43mvalue\u001b[39;49m\u001b[38;5;124;43m\"\u001b[39;49m\u001b[43m:\u001b[49m\u001b[43m \u001b[49m\u001b[43mvalue\u001b[49m\u001b[43m}\u001b[49m\u001b[43m)\u001b[49m[\u001b[38;5;124m\"\u001b[39m\u001b[38;5;124mvalue\u001b[39m\u001b[38;5;124m\"\u001b[39m]\n",
      "File \u001b[1;32mc:\\Users\\acer\\AppData\\Local\\Programs\\Python\\Python312\\Lib\\site-packages\\selenium\\webdriver\\remote\\webdriver.py:347\u001b[0m, in \u001b[0;36mWebDriver.execute\u001b[1;34m(self, driver_command, params)\u001b[0m\n\u001b[0;32m    345\u001b[0m response \u001b[38;5;241m=\u001b[39m \u001b[38;5;28mself\u001b[39m\u001b[38;5;241m.\u001b[39mcommand_executor\u001b[38;5;241m.\u001b[39mexecute(driver_command, params)\n\u001b[0;32m    346\u001b[0m \u001b[38;5;28;01mif\u001b[39;00m response:\n\u001b[1;32m--> 347\u001b[0m     \u001b[38;5;28;43mself\u001b[39;49m\u001b[38;5;241;43m.\u001b[39;49m\u001b[43merror_handler\u001b[49m\u001b[38;5;241;43m.\u001b[39;49m\u001b[43mcheck_response\u001b[49m\u001b[43m(\u001b[49m\u001b[43mresponse\u001b[49m\u001b[43m)\u001b[49m\n\u001b[0;32m    348\u001b[0m     response[\u001b[38;5;124m\"\u001b[39m\u001b[38;5;124mvalue\u001b[39m\u001b[38;5;124m\"\u001b[39m] \u001b[38;5;241m=\u001b[39m \u001b[38;5;28mself\u001b[39m\u001b[38;5;241m.\u001b[39m_unwrap_value(response\u001b[38;5;241m.\u001b[39mget(\u001b[38;5;124m\"\u001b[39m\u001b[38;5;124mvalue\u001b[39m\u001b[38;5;124m\"\u001b[39m, \u001b[38;5;28;01mNone\u001b[39;00m))\n\u001b[0;32m    349\u001b[0m     \u001b[38;5;28;01mreturn\u001b[39;00m response\n",
      "File \u001b[1;32mc:\\Users\\acer\\AppData\\Local\\Programs\\Python\\Python312\\Lib\\site-packages\\selenium\\webdriver\\remote\\errorhandler.py:229\u001b[0m, in \u001b[0;36mErrorHandler.check_response\u001b[1;34m(self, response)\u001b[0m\n\u001b[0;32m    227\u001b[0m         alert_text \u001b[38;5;241m=\u001b[39m value[\u001b[38;5;124m\"\u001b[39m\u001b[38;5;124malert\u001b[39m\u001b[38;5;124m\"\u001b[39m]\u001b[38;5;241m.\u001b[39mget(\u001b[38;5;124m\"\u001b[39m\u001b[38;5;124mtext\u001b[39m\u001b[38;5;124m\"\u001b[39m)\n\u001b[0;32m    228\u001b[0m     \u001b[38;5;28;01mraise\u001b[39;00m exception_class(message, screen, stacktrace, alert_text)  \u001b[38;5;66;03m# type: ignore[call-arg]  # mypy is not smart enough here\u001b[39;00m\n\u001b[1;32m--> 229\u001b[0m \u001b[38;5;28;01mraise\u001b[39;00m exception_class(message, screen, stacktrace)\n",
      "\u001b[1;31mNoSuchElementException\u001b[0m: Message: no such element: Unable to locate element: {\"method\":\"css selector\",\"selector\":\"div.Sticky-module__7HmWf\"}\n  (Session info: chrome=124.0.6367.119); For documentation on this error, please visit: https://www.selenium.dev/documentation/webdriver/troubleshooting/errors#no-such-element-exception\nStacktrace:\n\tGetHandleVerifier [0x00007FF790221502+60802]\n\t(No symbol) [0x00007FF79019AC02]\n\t(No symbol) [0x00007FF790057CE4]\n\t(No symbol) [0x00007FF7900A6D4D]\n\t(No symbol) [0x00007FF7900A6E1C]\n\t(No symbol) [0x00007FF7900ECE37]\n\t(No symbol) [0x00007FF7900CABBF]\n\t(No symbol) [0x00007FF7900EA224]\n\t(No symbol) [0x00007FF7900CA923]\n\t(No symbol) [0x00007FF790098FEC]\n\t(No symbol) [0x00007FF790099C21]\n\tGetHandleVerifier [0x00007FF79052411D+3217821]\n\tGetHandleVerifier [0x00007FF7905660B7+3488055]\n\tGetHandleVerifier [0x00007FF79055F03F+3459263]\n\tGetHandleVerifier [0x00007FF7902DB846+823494]\n\t(No symbol) [0x00007FF7901A5F9F]\n\t(No symbol) [0x00007FF7901A0EC4]\n\t(No symbol) [0x00007FF7901A1052]\n\t(No symbol) [0x00007FF7901918A4]\n\tBaseThreadInitThunk [0x00007FFFBADC257D+29]\n\tRtlUserThreadStart [0x00007FFFBBE0AA48+40]\n"
     ]
    }
   ],
   "source": [
    "submit = browser.find_element(By.CSS_SELECTOR , 'div.Sticky-module__7HmWf').find_elements(By.CSS_SELECTOR,'div.Stack-module__tT3r4')[1]\n",
    "submit = submit.find_elements(By.CSS_SELECTOR , 'button.Button-module__nc6_8')[1].click()\n"
   ]
  },
  {
   "cell_type": "code",
   "execution_count": null,
   "metadata": {},
   "outputs": [],
   "source": [
    "# html = browser.execute_script(\"return document.documentElement.outerHTML\")\n",
    "# html[:3000]"
   ]
  }
 ],
 "metadata": {
  "kernelspec": {
   "display_name": "Python 3",
   "language": "python",
   "name": "python3"
  },
  "language_info": {
   "codemirror_mode": {
    "name": "ipython",
    "version": 3
   },
   "file_extension": ".py",
   "mimetype": "text/x-python",
   "name": "python",
   "nbconvert_exporter": "python",
   "pygments_lexer": "ipython3",
   "version": "3.12.3"
  }
 },
 "nbformat": 4,
 "nbformat_minor": 2
}
